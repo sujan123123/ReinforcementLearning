{
  "nbformat": 4,
  "nbformat_minor": 0,
  "metadata": {
    "colab": {
      "name": "Basic Q Learning.ipynb",
      "provenance": [],
      "collapsed_sections": []
    },
    "kernelspec": {
      "name": "python3",
      "display_name": "Python 3"
    }
  },
  "cells": [
    {
      "cell_type": "code",
      "metadata": {
        "id": "N5xEy0STPzDL",
        "colab_type": "code",
        "colab": {}
      },
      "source": [
        "import numpy as np"
      ],
      "execution_count": 0,
      "outputs": []
    },
    {
      "cell_type": "code",
      "metadata": {
        "id": "x7ipWnLzP2E2",
        "colab_type": "code",
        "colab": {}
      },
      "source": [
        "R = np.matrix([[-1,-1,-1,-1,0,-1],\n",
        "              [-1,-1,-1,0,-1,100],\n",
        "              [-1,-1,-1,0,-1,-1],\n",
        "              [-1,0,0,-1,0,-1],\n",
        "              [-1,0,0,-1,-1,100],\n",
        "              [-1,0,-1,-1,0,100]])"
      ],
      "execution_count": 0,
      "outputs": []
    },
    {
      "cell_type": "code",
      "metadata": {
        "id": "fRaMSrpXQMl9",
        "colab_type": "code",
        "colab": {}
      },
      "source": [
        "Q = np.matrix(np.zeros([6,6]))"
      ],
      "execution_count": 0,
      "outputs": []
    },
    {
      "cell_type": "code",
      "metadata": {
        "id": "6NmseDlTRKwV",
        "colab_type": "code",
        "outputId": "dab01e33-c062-4173-c38b-f11e021f636f",
        "colab": {
          "base_uri": "https://localhost:8080/",
          "height": 34
        }
      },
      "source": [
        "gamma = 0.8\n",
        "\n",
        "initial_state = 1\n",
        "\n",
        "def available_actions(state):\n",
        "  current_state_row = R[state,]\n",
        "  av_act = np.where(current_state_row >= 0)[1]\n",
        "  return av_act\n",
        "\n",
        "available_act = available_actions(initial_state)\n",
        "available_act"
      ],
      "execution_count": 0,
      "outputs": [
        {
          "output_type": "execute_result",
          "data": {
            "text/plain": [
              "array([3, 5])"
            ]
          },
          "metadata": {
            "tags": []
          },
          "execution_count": 19
        }
      ]
    },
    {
      "cell_type": "code",
      "metadata": {
        "id": "7-X6YHwGnzAD",
        "colab_type": "code",
        "outputId": "03543212-35e2-49b0-8a71-b209d5426be0",
        "colab": {
          "base_uri": "https://localhost:8080/",
          "height": 34
        }
      },
      "source": [
        "def sample_next_action(available_act):\n",
        "  next_action = int(np.random.choice(available_act,1))\n",
        "  return next_action\n",
        "\n",
        "action = sample_next_action(available_act)\n",
        "action"
      ],
      "execution_count": 0,
      "outputs": [
        {
          "output_type": "execute_result",
          "data": {
            "text/plain": [
              "3"
            ]
          },
          "metadata": {
            "tags": []
          },
          "execution_count": 20
        }
      ]
    },
    {
      "cell_type": "code",
      "metadata": {
        "id": "lskZHgx6pnlz",
        "colab_type": "code",
        "colab": {}
      },
      "source": [
        "def update(current_state, action, gamma):\n",
        "  max_index = np.where(Q[action,] == np.max(Q[action,]))[1]\n",
        "\n",
        "  if max_index.shape[0] > 1:\n",
        "    max_index = int(np.random.choice(max_index, size = 1))\n",
        "\n",
        "  else:\n",
        "    max_index = int(max_index)\n",
        "  max_value = Q[action,max_index]\n",
        "\n",
        "  Q[current_state, action] = R[current_state, action] + gamma * max_value\n"
      ],
      "execution_count": 0,
      "outputs": []
    },
    {
      "cell_type": "code",
      "metadata": {
        "id": "wMel75j_q6uw",
        "colab_type": "code",
        "colab": {}
      },
      "source": [
        "update(initial_state, action,gamma)"
      ],
      "execution_count": 0,
      "outputs": []
    },
    {
      "cell_type": "code",
      "metadata": {
        "id": "nGMKRIEnq_Ji",
        "colab_type": "code",
        "colab": {}
      },
      "source": [
        "for i in range(100000):\n",
        "  current_state = np.random.randint(0, int(Q.shape[0]))\n",
        "  available_act = available_actions(current_state)\n",
        "  action = sample_next_action(available_act)\n",
        "  update(current_state,action,gamma)"
      ],
      "execution_count": 0,
      "outputs": []
    },
    {
      "cell_type": "code",
      "metadata": {
        "id": "3REkpLxosY3N",
        "colab_type": "code",
        "outputId": "fcba98fc-6de0-44af-a916-25fae5fc3f88",
        "colab": {
          "base_uri": "https://localhost:8080/",
          "height": 136
        }
      },
      "source": [
        "print(\"Trained Q Matrix:\")\n",
        "print(Q/np.max(Q) * 100)"
      ],
      "execution_count": 0,
      "outputs": [
        {
          "output_type": "stream",
          "text": [
            "Trained Q Matrix:\n",
            "[[  0.    0.    0.    0.   80.    0. ]\n",
            " [  0.    0.    0.   64.    0.  100. ]\n",
            " [  0.    0.    0.   64.    0.    0. ]\n",
            " [  0.   80.   51.2   0.   80.    0. ]\n",
            " [  0.   80.   51.2   0.    0.  100. ]\n",
            " [  0.   80.    0.    0.   80.  100. ]]\n"
          ],
          "name": "stdout"
        }
      ]
    },
    {
      "cell_type": "code",
      "metadata": {
        "id": "77iDDIAAsk4b",
        "colab_type": "code",
        "outputId": "f0ded4bb-42fe-477c-e9ed-b4053cca40d9",
        "colab": {
          "base_uri": "https://localhost:8080/",
          "height": 51
        }
      },
      "source": [
        "current_state = 2\n",
        "steps = [current_state]\n",
        "while True:\n",
        "  next_step_index = np.where(Q[current_state,] == np.max(Q[current_state,]))[1]\n",
        "  if next_step_index.shape[0] > 1:\n",
        "    next_step_index = int(np.random.choice(next_step_index, size = 1))\n",
        "\n",
        "  else:\n",
        "    next_step_index = int(next_step_index)\n",
        "\n",
        "  steps.append(next_step_index)\n",
        "  current_state = next_step_index\n",
        "  if current_state == 5:\n",
        "    break\n",
        "\n",
        "print(\"Selected Path: \")\n",
        "print(steps)\n"
      ],
      "execution_count": 0,
      "outputs": [
        {
          "output_type": "stream",
          "text": [
            "Selected Path: \n",
            "[2, 3, 4, 5]\n"
          ],
          "name": "stdout"
        }
      ]
    },
    {
      "cell_type": "code",
      "metadata": {
        "id": "HRO9L8zuvQnZ",
        "colab_type": "code",
        "colab": {}
      },
      "source": [
        ""
      ],
      "execution_count": 0,
      "outputs": []
    },
    {
      "cell_type": "code",
      "metadata": {
        "id": "Xw3MW0sotjzv",
        "colab_type": "code",
        "colab": {}
      },
      "source": [
        ""
      ],
      "execution_count": 0,
      "outputs": []
    }
  ]
}