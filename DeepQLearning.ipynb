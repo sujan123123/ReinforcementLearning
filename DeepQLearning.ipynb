{
  "nbformat": 4,
  "nbformat_minor": 0,
  "metadata": {
    "colab": {
      "name": "Untitled12.ipynb",
      "provenance": [],
      "authorship_tag": "ABX9TyNVl5BREE6at3qdg3Wagfpc",
      "include_colab_link": true
    },
    "kernelspec": {
      "name": "python3",
      "display_name": "Python 3"
    }
  },
  "cells": [
    {
      "cell_type": "markdown",
      "metadata": {
        "id": "view-in-github",
        "colab_type": "text"
      },
      "source": [
        "<a href=\"https://colab.research.google.com/github/sujan123123/ReinforcementLearning/blob/master/DeepQLearning.ipynb\" target=\"_parent\"><img src=\"https://colab.research.google.com/assets/colab-badge.svg\" alt=\"Open In Colab\"/></a>"
      ]
    },
    {
      "cell_type": "code",
      "metadata": {
        "id": "-CJAzywcK19S",
        "colab_type": "code",
        "colab": {
          "base_uri": "https://localhost:8080/",
          "height": 34
        },
        "outputId": "1c42e7b4-515c-4520-f4e5-0e96640e8c7b"
      },
      "source": [
        "\n",
        "from keras.models import Sequential      # One layer after the other\n",
        "from keras.layers import Dense, Flatten  # Dense layers are fully connected layers, Flatten layers flatten out multidimensional inputs\n",
        "from collections import deque            # For storing moves \n",
        "\n",
        "import numpy as np\n",
        "import gym                                # To train our network\n",
        "env = gym.make('MountainCar-v0')          # Choose game (any in the gym should work)\n",
        "\n",
        "import random     # For sampling batches from the observations\n",
        "\n",
        "print(env.observation_space.shape+(2,))\n",
        "# Create network. Input is two consecutive game states, output is Q-values of the possible moves.\n",
        "model = Sequential()\n",
        "model.add(Dense(20, input_shape=(2,) + env.observation_space.shape, activation='relu'))\n",
        "model.add(Flatten())       # Flatten input so as to have no problems with processing\n",
        "model.add(Dense(18, activation='relu'))\n",
        "model.add(Dense(10, activation='relu'))\n",
        "model.add(Dense(env.action_space.n, activation='linear'))    # Same number of outputs as possible actions\n",
        "\n",
        "model.compile(loss='mse', optimizer='adam', metrics=['accuracy'])\n",
        "\n",
        "# Parameters\n",
        "D = deque()                                # Register where the actions will be stored\n",
        "\n",
        "observetime = 500                          # Number of timesteps we will be acting on the game and observing results\n",
        "epsilon = 0.7                              # Probability of doing a random move\n",
        "gamma = 0.9                                # Discounted future reward. How much we care about steps further in time\n",
        "mb_size = 50      \n"
      ],
      "execution_count": 12,
      "outputs": [
        {
          "output_type": "stream",
          "text": [
            "(2, 2)\n"
          ],
          "name": "stdout"
        }
      ]
    },
    {
      "cell_type": "code",
      "metadata": {
        "id": "gmwKz1DuK4bS",
        "colab_type": "code",
        "colab": {
          "base_uri": "https://localhost:8080/",
          "height": 34
        },
        "outputId": "56b7d650-b76e-4938-80b2-e58b07633f74"
      },
      "source": [
        "\n",
        "observation = env.reset()                     # Game begins\n",
        "obs = np.expand_dims(observation, axis=0)     # (Formatting issues) Making the observation the first element of a batch of inputs \n",
        "state = np.stack((obs, obs), axis=1)\n",
        "done = False\n",
        "for t in range(observetime):\n",
        "    if np.random.rand() <= epsilon:\n",
        "        action = np.random.randint(0, env.action_space.n, size=1)[0]\n",
        "    else:\n",
        "        Q = model.predict(state)          # Q-values predictions\n",
        "        action = np.argmax(Q)             # Move with highest Q-value is the chosen one\n",
        "    observation_new, reward, done, info = env.step(action)     # See state of the game, reward... after performing the action\n",
        "    obs_new = np.expand_dims(observation_new, axis=0)          # (Formatting issues)\n",
        "    state_new = np.append(np.expand_dims(obs_new, axis=0), state[:, :1, :], axis=1)     # Update the input with the new state of the game\n",
        "    D.append((state, action, reward, state_new, done))         # 'Remember' action and consequence\n",
        "    state = state_new         # Update state\n",
        "    if done:\n",
        "        env.reset()           # Restart game if it's finished\n",
        "        obs = np.expand_dims(observation, axis=0)     # (Formatting issues) Making the observation the first element of a batch of inputs \n",
        "        state = np.stack((obs, obs), axis=1)\n",
        "print('Observing Finished')"
      ],
      "execution_count": 13,
      "outputs": [
        {
          "output_type": "stream",
          "text": [
            "Observing Finished\n"
          ],
          "name": "stdout"
        }
      ]
    },
    {
      "cell_type": "code",
      "metadata": {
        "id": "-9gZ_3t2L-Ox",
        "colab_type": "code",
        "colab": {
          "base_uri": "https://localhost:8080/",
          "height": 34
        },
        "outputId": "cc0e78a7-b810-486f-f717-3fe4343cb5ae"
      },
      "source": [
        "\n",
        "minibatch = random.sample(D, mb_size)                              # Sample some moves\n",
        "\n",
        "inputs_shape = (mb_size,) + state.shape[1:]\n",
        "inputs = np.zeros(inputs_shape)\n",
        "targets = np.zeros((mb_size, env.action_space.n))\n",
        "\n",
        "for i in range(0, mb_size):\n",
        "    state = minibatch[i][0]\n",
        "    action = minibatch[i][1]\n",
        "    reward = minibatch[i][2]\n",
        "    state_new = minibatch[i][3]\n",
        "    done = minibatch[i][4]\n",
        "    \n",
        "# Build Bellman equation for the Q function\n",
        "    inputs[i:i+1] = np.expand_dims(state, axis=0)\n",
        "    targets[i] = model.predict(state)\n",
        "    Q_sa = model.predict(state_new)\n",
        "    \n",
        "    if done:\n",
        "        targets[i, action] = reward\n",
        "    else:\n",
        "        targets[i, action] = reward + gamma * np.max(Q_sa)\n",
        "\n",
        "# Train network to output the Q function\n",
        "    model.train_on_batch(inputs, targets)\n",
        "print('Learning Finished')"
      ],
      "execution_count": 14,
      "outputs": [
        {
          "output_type": "stream",
          "text": [
            "Learning Finished\n"
          ],
          "name": "stdout"
        }
      ]
    },
    {
      "cell_type": "code",
      "metadata": {
        "id": "RjjE4DTbMDvR",
        "colab_type": "code",
        "colab": {
          "base_uri": "https://localhost:8080/",
          "height": 34
        },
        "outputId": "3242619e-c564-4b72-f5f2-555bf0ff0a5f"
      },
      "source": [
        "# THIRD STEP: Play!\n",
        "\n",
        "observation = env.reset()\n",
        "obs = np.expand_dims(observation, axis=0)\n",
        "state = np.stack((obs, obs), axis=1)\n",
        "done = False\n",
        "tot_reward = 0.0\n",
        "while not done:\n",
        "    Q = model.predict(state)        \n",
        "    action = np.argmax(Q)         \n",
        "    observation, reward, done, info = env.step(action)\n",
        "    obs = np.expand_dims(observation, axis=0)\n",
        "    state = np.append(np.expand_dims(obs, axis=0), state[:, :1, :], axis=1)    \n",
        "    tot_reward += reward\n",
        "print('Game ended! Total reward: {}'.format(reward))"
      ],
      "execution_count": 18,
      "outputs": [
        {
          "output_type": "stream",
          "text": [
            "Game ended! Total reward: -1.0\n"
          ],
          "name": "stdout"
        }
      ]
    },
    {
      "cell_type": "code",
      "metadata": {
        "id": "WpX5O-wSMJPM",
        "colab_type": "code",
        "colab": {}
      },
      "source": [
        ""
      ],
      "execution_count": null,
      "outputs": []
    }
  ]
}